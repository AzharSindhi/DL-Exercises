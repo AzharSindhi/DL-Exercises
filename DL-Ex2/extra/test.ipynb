{
 "cells": [
  {
   "cell_type": "code",
   "execution_count": 2,
   "metadata": {},
   "outputs": [],
   "source": [
    "import numpy as np\n",
    "from scipy import signal"
   ]
  },
  {
   "cell_type": "code",
   "execution_count": 80,
   "metadata": {},
   "outputs": [],
   "source": [
    "def apply_stride(output, stride_shape):\n",
    "    strided_output = output[:, :, 0::stride_shape[0], 0::stride_shape[1]]\n",
    "    return strided_output"
   ]
  },
  {
   "cell_type": "code",
   "execution_count": 157,
   "metadata": {},
   "outputs": [],
   "source": [
    "def pad(input_tensor, filter_w, filter_h, stride):\n",
    "    \n",
    "    batch_size, c, input_w, input_h = input_tensor.shape\n",
    "    new_w = ((input_w - 1)* stride - input_w + filter_w)//2\n",
    "    new_h = ((input_h - 1)* stride - input_h + filter_h)//2\n",
    "    \n",
    "    pad_width = [(0,0), (0,0), (stride, new_w), (stride,new_h)]\n",
    "    out = np.pad(input_tensor, pad_width=pad_width, constant_values=0)\n",
    "    \n",
    "    return out\n",
    "    "
   ]
  },
  {
   "cell_type": "code",
   "execution_count": 58,
   "metadata": {},
   "outputs": [],
   "source": [
    "def conv2(input_tensor, filters, stride_shape, padding=0):\n",
    "        batch_size, input_c, input_w, input_h = input_tensor.shape\n",
    "        num_filters, input_c, filter_w, filter_h = filters.shape\n",
    "\n",
    "        out_w = int((input_w - filter_w + 2*padding)/stride_shape[0]) + 1\n",
    "        out_h = int((input_h - filter_h + 2*padding)/stride_shape[1]) + 1\n",
    "        out_c = num_filters\n",
    "\n",
    "        input_depth = filters.shape[1]\n",
    "        channel = filters.shape[0]\n",
    "        output = np.zeros((input_tensor.shape[0], out_c, out_w, out_h))\n",
    "        \n",
    "        for m in range(batch_size):\n",
    "            for k in range(out_c):\n",
    "                for d in range(input_depth):\n",
    "                    inputt = input_tensor[m, d]\n",
    "                    for h in range(out_h):\n",
    "                        for w in range(out_w):\n",
    "                            \n",
    "                            start_x = w*stride_shape[0]\n",
    "                            stop_x = start_x + filter_w\n",
    "                            \n",
    "                            start_y = h*stride_shape[1]\n",
    "                            stop_y = start_y + filter_h\n",
    "                            \n",
    "                            aslice = inputt[start_x: stop_x, start_y: stop_y]\n",
    "                            kernel = filters[k, d]\n",
    "                            output[m, k, w, h] += np.sum(aslice * kernel)\n",
    "        \n",
    "        return output\n",
    "                        \n",
    "                    \n",
    "        \n",
    "#         for i in range(out_w):\n",
    "#             start_x = 0\n",
    "#             for j in range(out_h):\n",
    "#                 for k, filter in enumerate(self.filters):\n",
    "#                     output[:, k, j, i] = np.sum(\n",
    "#                         input_tensor[:, :, start_y: start_y + step_y, \n",
    "#                                         start_x: start_x + step_x] * filter + self.bias[k],\n",
    "#                                         axis=(1,2,3))\n",
    "#                 start_x = start_x + self.stride_shape[0]\n",
    "            \n",
    "#             start_y += self.stride_shape[1]\n",
    "        \n",
    "#         return output"
   ]
  },
  {
   "cell_type": "code",
   "execution_count": 59,
   "metadata": {},
   "outputs": [],
   "source": [
    "def conv(input_tensor, filters, stride=1, padding=0):\n",
    "    \n",
    "    batch_size, input_c, input_w, input_h = input_tensor.shape\n",
    "    num_filters, input_c, filter_w, filter_h = filters.shape\n",
    "    \n",
    "    out_w = int((input_w - filter_w + 2*padding)/stride) + 1\n",
    "    out_h = int((input_h - filter_h + 2*padding)/stride) + 1\n",
    "    out_c = num_filters\n",
    "    \n",
    "    input_depth = filters.shape[1]\n",
    "    output = np.zeros((input_tensor.shape[0], out_c, out_w, out_h))\n",
    "    \n",
    "    for m in range(input_tensor.shape[0]):\n",
    "        for c in range(out_c):\n",
    "            for d in range(input_depth):\n",
    "                output[m, c] += signal.correlate2d(input_tensor[m, d], filters[c,d], \"valid\")\n",
    "    \n",
    "    return output\n",
    "    \n",
    "    "
   ]
  },
  {
   "cell_type": "code",
   "execution_count": 88,
   "metadata": {},
   "outputs": [
    {
     "name": "stdout",
     "output_type": "stream",
     "text": [
      "(2, 1, 5, 5)\n"
     ]
    }
   ],
   "source": [
    "input_tensor = np.random.rand(2,3,7,7)\n",
    "num_filters = 1\n",
    "input_depth = input_tensor.shape[1]\n",
    "filters = np.random.rand(num_filters, input_depth, 3,3)\n",
    "output_conv1 = conv(input_tensor, filters)\n",
    "\n",
    "print(output_conv1.shape)"
   ]
  },
  {
   "cell_type": "code",
   "execution_count": 89,
   "metadata": {},
   "outputs": [
    {
     "name": "stdout",
     "output_type": "stream",
     "text": [
      "(2, 1, 5, 3)\n"
     ]
    }
   ],
   "source": [
    "output_conv2 = conv2(input_tensor, filters, stride_shape=(1,2))\n",
    "print(output_conv2.shape)"
   ]
  },
  {
   "cell_type": "code",
   "execution_count": 90,
   "metadata": {},
   "outputs": [
    {
     "data": {
      "text/plain": [
       "(2, 1, 5, 3)"
      ]
     },
     "execution_count": 90,
     "metadata": {},
     "output_type": "execute_result"
    }
   ],
   "source": [
    "output_conv1 = apply_stride(output_conv1, (1,2))\n",
    "output_conv1.shape"
   ]
  },
  {
   "cell_type": "code",
   "execution_count": 91,
   "metadata": {},
   "outputs": [
    {
     "name": "stdout",
     "output_type": "stream",
     "text": [
      "True\n"
     ]
    }
   ],
   "source": [
    "print(np.allclose(output_conv1, output_conv2))"
   ]
  },
  {
   "cell_type": "code",
   "execution_count": 92,
   "metadata": {},
   "outputs": [
    {
     "name": "stdout",
     "output_type": "stream",
     "text": [
      "[[[[6.04085723 6.21689715 7.15042105]\n",
      "   [7.83424773 6.98051941 6.51088802]\n",
      "   [8.11557512 6.7150652  7.27423322]\n",
      "   [6.6015336  6.96576589 6.63299555]\n",
      "   [6.83858892 6.0717653  6.14456336]]]\n",
      "\n",
      "\n",
      " [[[8.49850472 8.36314121 7.74336605]\n",
      "   [7.93929108 7.40618425 6.48372688]\n",
      "   [5.82864341 5.75931222 7.69114587]\n",
      "   [6.27575497 5.85073068 6.02808037]\n",
      "   [7.52739357 5.32648495 5.51478062]]]]\n"
     ]
    }
   ],
   "source": [
    "print(output_conv2)"
   ]
  },
  {
   "cell_type": "code",
   "execution_count": 84,
   "metadata": {},
   "outputs": [
    {
     "name": "stdout",
     "output_type": "stream",
     "text": [
      "[[[[4.839987   5.38670434 7.26868766]\n",
      "   [6.1550135  6.69991771 6.58112847]\n",
      "   [5.06901854 6.53453564 6.68890836]]]\n",
      "\n",
      "\n",
      " [[[7.13565038 6.82111506 5.73577517]\n",
      "   [6.84810003 7.23614396 6.14903191]\n",
      "   [6.25619731 7.08705339 7.50600382]]]]\n"
     ]
    }
   ],
   "source": [
    "print(output_conv1)"
   ]
  },
  {
   "cell_type": "code",
   "execution_count": 164,
   "metadata": {},
   "outputs": [
    {
     "name": "stdout",
     "output_type": "stream",
     "text": [
      "[[[[0.3537397  0.44445355 0.83463952]\n",
      "   [0.11964033 0.7203983  0.19861132]\n",
      "   [0.81913367 0.17093866 0.22125756]]]\n",
      "\n",
      "\n",
      " [[[0.43980427 0.0294004  0.8439703 ]\n",
      "   [0.42011838 0.0832708  0.15689997]\n",
      "   [0.9623606  0.76344108 0.24938151]]]] \n",
      "\n",
      "(2, 1, 5, 5)\n",
      "[[[[0.         0.         0.         0.         0.        ]\n",
      "   [0.         0.3537397  0.44445355 0.83463952 0.        ]\n",
      "   [0.         0.11964033 0.7203983  0.19861132 0.        ]\n",
      "   [0.         0.81913367 0.17093866 0.22125756 0.        ]\n",
      "   [0.         0.         0.         0.         0.        ]]]\n",
      "\n",
      "\n",
      " [[[0.         0.         0.         0.         0.        ]\n",
      "   [0.         0.43980427 0.0294004  0.8439703  0.        ]\n",
      "   [0.         0.42011838 0.0832708  0.15689997 0.        ]\n",
      "   [0.         0.9623606  0.76344108 0.24938151 0.        ]\n",
      "   [0.         0.         0.         0.         0.        ]]]]\n"
     ]
    }
   ],
   "source": [
    "input_tensor = np.random.rand(2, 1, 3, 3)\n",
    "filter_w, filter_h = 3,3\n",
    "stride = 1\n",
    "\n",
    "print(input_tensor, \"\\n\")\n",
    "pad_out = pad(input_tensor, filter_w, filter_h, stride)\n",
    "\n",
    "print(pad_out.shape)\n",
    "print(pad_out)\n",
    "# print('\\n'.join([' '.join(['{:4}'.format(int(np.ceil(item))) for item in row]) \n",
    "#       for row in pad_out]))"
   ]
  },
  {
   "cell_type": "code",
   "execution_count": 5,
   "metadata": {},
   "outputs": [],
   "source": [
    "a = np.zeros((5, *[2]))"
   ]
  },
  {
   "cell_type": "code",
   "execution_count": null,
   "metadata": {},
   "outputs": [],
   "source": []
  }
 ],
 "metadata": {
  "kernelspec": {
   "display_name": "Python [conda env:DLEx]",
   "language": "python",
   "name": "conda-env-DLEx-py"
  },
  "language_info": {
   "codemirror_mode": {
    "name": "ipython",
    "version": 3
   },
   "file_extension": ".py",
   "mimetype": "text/x-python",
   "name": "python",
   "nbconvert_exporter": "python",
   "pygments_lexer": "ipython3",
   "version": "3.9.7"
  }
 },
 "nbformat": 4,
 "nbformat_minor": 4
}
