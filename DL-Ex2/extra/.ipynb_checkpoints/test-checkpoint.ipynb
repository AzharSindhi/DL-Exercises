{
 "cells": [
  {
   "cell_type": "code",
   "execution_count": 1,
   "metadata": {},
   "outputs": [],
   "source": [
    "import numpy as np\n",
    "from scipy import signal"
   ]
  },
  {
   "cell_type": "code",
   "execution_count": 29,
   "metadata": {},
   "outputs": [],
   "source": [
    "def conv(input_tensor, filters, stride=1, padding=0):\n",
    "    \n",
    "    input_depth = filters.shape[0]\n",
    "    out_w = int((input_tensor.shape[1] - filters.shape[2] + 2*padding)/stride) + 1\n",
    "    out_h = int((input_tensor.shape[2] - filters.shape[3] + 2*padding)/stride) + 1\n",
    "    channel = filters.shape[0]\n",
    "    output = np.zeros((2, channel, out_w, out_h))\n",
    "    \n",
    "    for c in range(channel):\n",
    "        for d in range(input_depth):\n",
    "            output[:, c] += signal.correlate2d(input_tensor[:, d], filters[c,d], \"valid\")\n",
    "    \n",
    "    return output\n",
    "    \n",
    "    "
   ]
  },
  {
   "cell_type": "code",
   "execution_count": 30,
   "metadata": {},
   "outputs": [
    {
     "name": "stdout",
     "output_type": "stream",
     "text": [
      "(2, 5, 10, 10)\n"
     ]
    }
   ],
   "source": [
    "input_tensor = np.random.rand(3,12,12)\n",
    "num_filters = 5\n",
    "input_depth = input_tensor.shape[0]\n",
    "filters = np.random.rand(num_filters, input_depth, 3,3)\n",
    "\n",
    "print(conv(input_tensor, filters).shape)"
   ]
  },
  {
   "cell_type": "code",
   "execution_count": null,
   "metadata": {},
   "outputs": [],
   "source": []
  }
 ],
 "metadata": {
  "kernelspec": {
   "display_name": "Python [conda env:DLEx]",
   "language": "python",
   "name": "conda-env-DLEx-py"
  },
  "language_info": {
   "codemirror_mode": {
    "name": "ipython",
    "version": 3
   },
   "file_extension": ".py",
   "mimetype": "text/x-python",
   "name": "python",
   "nbconvert_exporter": "python",
   "pygments_lexer": "ipython3",
   "version": "3.9.7"
  }
 },
 "nbformat": 4,
 "nbformat_minor": 4
}
