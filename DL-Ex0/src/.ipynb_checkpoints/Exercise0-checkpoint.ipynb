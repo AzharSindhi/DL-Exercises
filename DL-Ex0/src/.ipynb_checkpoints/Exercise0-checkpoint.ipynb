{
 "cells": [
  {
   "cell_type": "code",
   "execution_count": 1,
   "metadata": {},
   "outputs": [],
   "source": [
    "import numpy as np\n",
    "import matplotlib.pyplot as plt"
   ]
  },
  {
   "cell_type": "code",
   "execution_count": 2,
   "metadata": {},
   "outputs": [],
   "source": [
    "##### meshgrid #####"
   ]
  },
  {
   "cell_type": "code",
   "execution_count": 214,
   "metadata": {},
   "outputs": [
    {
     "data": {
      "text/plain": [
       "<matplotlib.image.AxesImage at 0x7f716170e070>"
      ]
     },
     "execution_count": 214,
     "metadata": {},
     "output_type": "execute_result"
    },
    {
     "data": {
      "image/png": "[encoded data removed]",
      "text/plain": [
       "<Figure size 432x288 with 1 Axes>"
      ]
     },
     "metadata": {
      "needs_background": "light"
     },
     "output_type": "display_data"
    }
   ],
   "source": [
    "def get_circle(X, Y, center, r):\n",
    "    circle = (X - center[0]) ** 2 + (Y - center[1])**2 <= (r*r)\n",
    "    return circle\n",
    "    \n",
    "center = (50,50)\n",
    "radius = 20\n",
    "res = 512\n",
    "    \n",
    "x = np.arange(res)\n",
    "y = np.arange(res)\n",
    "\n",
    "\n",
    "xx, yy = np.meshgrid(x, y)\n",
    "circle = get_circle(xx, yy, center, radius)\n",
    "\n",
    "plt.imshow(circle, cmap='gray')\n"
   ]
  },
  {
   "cell_type": "code",
   "execution_count": 215,
   "metadata": {},
   "outputs": [
    {
     "data": {
      "text/plain": [
       "<matplotlib.image.AxesImage at 0x7f716155e940>"
      ]
     },
     "execution_count": 215,
     "metadata": {},
     "output_type": "execute_result"
    },
    {
     "data": {
      "image/png": "[encoded data removed]",
      "text/plain": [
       "<Figure size 432x288 with 1 Axes>"
      ]
     },
     "metadata": {
      "needs_background": "light"
     },
     "output_type": "display_data"
    }
   ],
   "source": [
    "#### checker \n",
    "\n",
    "tile_size = 2\n",
    "res = 10\n",
    "\n",
    "array = np.ones((res, res))\n",
    "fill = 0\n",
    "start_y = 0\n",
    "while(start_y <= res + 2):\n",
    "    num_tiles = int((res/tile_size)/2)\n",
    "    start_x = 0\n",
    "    for i in range(num_tiles):\n",
    "        array[start_x: start_x + tile_size, start_y: start_y + tile_size] = 0\n",
    "        array[start_x + tile_size: start_x + 2 * tile_size, start_y + tile_size : start_y  + 2 * tile_size] = 0\n",
    "        start_x = start_x + 2 * tile_size\n",
    "    \n",
    "    start_y = start_y + 2 * tile_size\n",
    "    fill = fill \n",
    "\n",
    "plt.imshow(array, cmap='gray')\n",
    "\n"
   ]
  },
  {
   "cell_type": "code",
   "execution_count": 210,
   "metadata": {},
   "outputs": [
    {
     "name": "stdout",
     "output_type": "stream",
     "text": [
      "(8, 8)\n"
     ]
    },
    {
     "data": {
      "text/plain": [
       "<matplotlib.image.AxesImage at 0x7f716120d640>"
      ]
     },
     "execution_count": 210,
     "metadata": {},
     "output_type": "execute_result"
    },
    {
     "data": {
      "image/png": "[encoded data removed]",
      "text/plain": [
       "<Figure size 432x288 with 1 Axes>"
      ]
     },
     "metadata": {
      "needs_background": "light"
     },
     "output_type": "display_data"
    }
   ],
   "source": [
    "# checker board with size 3x3\n",
    "resolution = 10\n",
    "tile_size = 2\n",
    "\n",
    "repeat = resolution // (2* tile_size)\n",
    "black = np.zeros((tile_size, tile_size))\n",
    "white = np.ones((tile_size, tile_size))\n",
    "\n",
    "a1 = np.hstack([black, white])\n",
    "a2 = np.hstack([white, black])\n",
    "\n",
    "a = np.concatenate([a1, a2])\n",
    "\n",
    "tile = np.tile(a, (repeat, repeat))\n",
    "print(tile.shape)\n",
    "plt.imshow(tile, cmap='gray')"
   ]
  },
  {
   "cell_type": "code",
   "execution_count": 209,
   "metadata": {},
   "outputs": [
    {
     "name": "stdout",
     "output_type": "stream",
     "text": [
      "[[1. 1. 1. 1. 1. 1. 1. 1. 1. 1.]\n",
      " [1. 1. 1. 1. 1. 1. 1. 1. 1. 1.]\n",
      " [1. 1. 1. 1. 1. 1. 1. 1. 1. 1.]\n",
      " [1. 1. 1. 1. 1. 1. 1. 1. 1. 1.]\n",
      " [1. 1. 1. 1. 1. 1. 1. 1. 1. 1.]\n",
      " [1. 1. 1. 1. 1. 1. 1. 1. 1. 1.]\n",
      " [1. 1. 1. 1. 1. 1. 1. 1. 1. 1.]\n",
      " [1. 1. 1. 1. 1. 1. 1. 1. 1. 1.]\n",
      " [1. 1. 1. 1. 1. 1. 1. 1. 1. 1.]\n",
      " [1. 1. 1. 1. 1. 1. 1. 1. 1. 1.]]\n"
     ]
    }
   ],
   "source": [
    "print(tile[0:tile_size, tile_size: 2*tile_size])"
   ]
  },
  {
   "cell_type": "code",
   "execution_count": null,
   "metadata": {},
   "outputs": [],
   "source": []
  }
 ],
 "metadata": {
  "kernelspec": {
   "display_name": "Python [conda env:DLEx]",
   "language": "python",
   "name": "conda-env-DLEx-py"
  },
  "language_info": {
   "codemirror_mode": {
    "name": "ipython",
    "version": 3
   },
   "file_extension": ".py",
   "mimetype": "text/x-python",
   "name": "python",
   "nbconvert_exporter": "python",
   "pygments_lexer": "ipython3",
   "version": "3.9.7"
  }
 },
 "nbformat": 4,
 "nbformat_minor": 4
}
